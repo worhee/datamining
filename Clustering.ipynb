{
 "cells": [
  {
   "cell_type": "code",
   "execution_count": 71,
   "metadata": {
    "collapsed": true
   },
   "outputs": [],
   "source": [
    "import pandas as pd\n",
    "from sklearn.preprocessing import normalize\n",
    "from sklearn.cluster import KMeans"
   ]
  },
  {
   "cell_type": "code",
   "execution_count": 33,
   "metadata": {
    "collapsed": true
   },
   "outputs": [],
   "source": [
    "raw = pd.read_csv('sizekorea2010_3.csv')"
   ]
  },
  {
   "cell_type": "code",
   "execution_count": 70,
   "metadata": {},
   "outputs": [
    {
     "data": {
      "text/plain": [
       "14016"
      ]
     },
     "execution_count": 70,
     "metadata": {},
     "output_type": "execute_result"
    }
   ],
   "source": [
    "len(raw_n)"
   ]
  },
  {
   "cell_type": "code",
   "execution_count": 41,
   "metadata": {
    "scrolled": true
   },
   "outputs": [
    {
     "data": {
      "text/plain": [
       "array([[   0,    7, 1330, ...,  386,  193,  199],\n",
       "       [   0,    7, 1160, ...,  315,  157,  142],\n",
       "       [   0,    7, 1243, ...,  332,  156,  154],\n",
       "       ..., \n",
       "       [   1,   39, 1584, ...,  475,  303,  257],\n",
       "       [   1,   36, 1606, ...,  483,  240,  212],\n",
       "       [   1,   27, 1668, ...,  475,  230,  225]], dtype=int64)"
      ]
     },
     "execution_count": 41,
     "metadata": {},
     "output_type": "execute_result"
    }
   ],
   "source": [
    "raw.values"
   ]
  },
  {
   "cell_type": "code",
   "execution_count": 66,
   "metadata": {},
   "outputs": [],
   "source": [
    "raw_n = normalize(raw, norm = 'max', axis = 0)"
   ]
  },
  {
   "cell_type": "code",
   "execution_count": 69,
   "metadata": {},
   "outputs": [
    {
     "data": {
      "text/plain": [
       "array([ 0.        ,  0.10144928,  0.69250646,  0.628516  ,  0.63268893,\n",
       "        0.46481876,  0.47131148,  0.60046189,  0.44180523,  0.55685131,\n",
       "        0.57246377,  0.66585366,  0.58669834,  0.58044807,  0.60358343,\n",
       "        0.71526419,  0.59276018,  0.70198675,  0.64007782,  0.66812865,\n",
       "        0.64505119,  0.50909091,  0.51449275])"
      ]
     },
     "execution_count": 69,
     "metadata": {},
     "output_type": "execute_result"
    }
   ],
   "source": [
    "features = []\n",
    "for i in range(len(raw_n))\n",
    "    features.append(raw_n[i])"
   ]
  },
  {
   "cell_type": "code",
   "execution_count": 74,
   "metadata": {},
   "outputs": [
    {
     "name": "stdout",
     "output_type": "stream",
     "text": [
      "[2 2 2 ..., 1 1 1]\n",
      "[[ -4.50195436e-14   3.94530373e-01   8.76577952e-01   8.23303728e-01\n",
      "    7.80501445e-01   5.91620131e-01   5.86632686e-01   7.39172343e-01\n",
      "    5.40374059e-01   7.42231587e-01   6.76225659e-01   8.45274760e-01\n",
      "    7.65566312e-01   7.55314998e-01   7.60555331e-01   8.90023041e-01\n",
      "    6.93804158e-01   8.52785971e-01   7.95389232e-01   8.34869581e-01\n",
      "    8.09213742e-01   5.28090994e-01   5.37095676e-01]\n",
      " [  1.00000000e+00   3.44111257e-01   7.85296823e-01   7.34273158e-01\n",
      "    6.96843603e-01   5.03240386e-01   5.18840513e-01   6.92490878e-01\n",
      "    4.82224104e-01   7.12438602e-01   6.40852846e-01   7.65053189e-01\n",
      "    6.69271116e-01   6.74209805e-01   6.64899834e-01   8.05088485e-01\n",
      "    6.46969498e-01   7.65541567e-01   7.13556807e-01   7.60825568e-01\n",
      "    7.38637823e-01   4.88108841e-01   4.84703335e-01]\n",
      " [  1.75415238e-14   1.49394526e-01   7.19720023e-01   6.79707657e-01\n",
      "    6.51202498e-01   4.51703357e-01   4.52690949e-01   5.69332333e-01\n",
      "    4.12001087e-01   6.00335337e-01   5.47129742e-01   6.95797528e-01\n",
      "    5.88240916e-01   5.91365760e-01   5.92704653e-01   7.29952978e-01\n",
      "    5.49772716e-01   7.09715052e-01   6.68681601e-01   6.81945351e-01\n",
      "    6.62243028e-01   4.23092663e-01   4.25395938e-01]]\n"
     ]
    }
   ],
   "source": [
    "model = KMeans(n_clusters=3, random_state=0)\n",
    "model.fit(raw_n)\n",
    "print(model.labels_)\n",
    "print(model.cluster_centers_)"
   ]
  },
  {
   "cell_type": "code",
   "execution_count": null,
   "metadata": {
    "collapsed": true
   },
   "outputs": [],
   "source": []
  }
 ],
 "metadata": {
  "kernelspec": {
   "display_name": "Python 3",
   "language": "python",
   "name": "python3"
  },
  "language_info": {
   "codemirror_mode": {
    "name": "ipython",
    "version": 3
   },
   "file_extension": ".py",
   "mimetype": "text/x-python",
   "name": "python",
   "nbconvert_exporter": "python",
   "pygments_lexer": "ipython3",
   "version": "3.6.1"
  }
 },
 "nbformat": 4,
 "nbformat_minor": 2
}
